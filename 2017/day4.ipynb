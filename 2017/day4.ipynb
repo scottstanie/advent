{
 "cells": [
  {
   "cell_type": "code",
   "execution_count": 23,
   "metadata": {},
   "outputs": [],
   "source": [
    "%matplotlib inline\n",
    "import matplotlib.pyplot as plt\n",
    "import numpy as np\n",
    "import re\n",
    "import math\n",
    "import requests\n",
    "\n",
    "from collections import Counter, defaultdict, namedtuple, deque\n",
    "from itertools   import permutations, combinations, chain, cycle, product, islice\n",
    "from utils import read_input, powerset, neighbors4, neighbors8, X, Y\n"
   ]
  },
  {
   "cell_type": "code",
   "execution_count": 24,
   "metadata": {},
   "outputs": [
    {
     "data": {
      "text/plain": [
       "['bdwdjjo avricm cjbmj ran lmfsom ivsof',\n",
       " 'mxonybc fndyzzi gmdp gdfyoi inrvhr kpuueel wdpga vkq',\n",
       " 'bneh ylltsc vhryov lsd hmruxy ebnh pdln vdprrky',\n",
       " 'fumay zbccai qymavw zwoove hqpd rcxyvy']"
      ]
     },
     "execution_count": 24,
     "metadata": {},
     "output_type": "execute_result"
    },
    {
     "data": {
      "text/plain": [
       "True"
      ]
     },
     "execution_count": 24,
     "metadata": {},
     "output_type": "execute_result"
    },
    {
     "data": {
      "text/plain": [
       "False"
      ]
     },
     "execution_count": 24,
     "metadata": {},
     "output_type": "execute_result"
    }
   ],
   "source": [
    "lines = read_input(4)\n",
    "lines[:4]\n",
    "def is_valid(word_list):\n",
    "    words = Counter(word_list)\n",
    "    return words.most_common(1)[0][1] == 1\n",
    "\n",
    "is_valid('aa bb cc'.split(' '))\n",
    "is_valid('aa bb cc aa'.split(' '))\n",
    "    "
   ]
  },
  {
   "cell_type": "code",
   "execution_count": 25,
   "metadata": {},
   "outputs": [
    {
     "name": "stdout",
     "output_type": "stream",
     "text": [
      "455\n"
     ]
    }
   ],
   "source": [
    "print(sum(is_valid(line.split(' ')) for line in lines))"
   ]
  },
  {
   "cell_type": "code",
   "execution_count": 26,
   "metadata": {},
   "outputs": [
    {
     "name": "stdout",
     "output_type": "stream",
     "text": [
      "186\n"
     ]
    }
   ],
   "source": [
    "# part 2\n",
    "count = 0\n",
    "for line in lines:\n",
    "    words = line.split(' ')\n",
    "    words = [''.join(sorted(word)) for word in words]\n",
    "    if Counter(words).most_common()[0][1] == 1:\n",
    "        count += 1\n",
    "        \n",
    "print(count)"
   ]
  }
 ],
 "metadata": {
  "kernelspec": {
   "display_name": "Python 3",
   "language": "python",
   "name": "python3"
  },
  "language_info": {
   "codemirror_mode": {
    "name": "ipython",
    "version": 3
   },
   "file_extension": ".py",
   "mimetype": "text/x-python",
   "name": "python",
   "nbconvert_exporter": "python",
   "pygments_lexer": "ipython3",
   "version": "3.5.2"
  }
 },
 "nbformat": 4,
 "nbformat_minor": 2
}
