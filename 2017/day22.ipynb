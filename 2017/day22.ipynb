{
 "cells": [
  {
   "cell_type": "code",
   "execution_count": 1,
   "metadata": {
    "collapsed": true
   },
   "outputs": [],
   "source": [
    "%matplotlib inline\n",
    "import matplotlib.pyplot as plt\n",
    "import numpy as np\n",
    "import re\n",
    "import math\n",
    "import requests\n",
    "\n",
    "from collections import Counter, defaultdict, namedtuple, deque\n",
    "from itertools   import permutations, combinations, chain, cycle, product, islice\n",
    "from utils import read_input, powerset, neighbors4, neighbors8, X, Y\n"
   ]
  },
  {
   "cell_type": "code",
   "execution_count": 69,
   "metadata": {},
   "outputs": [
    {
     "data": {
      "text/plain": [
       "array([[0, 0, 0, ..., 0, 0, 0],\n",
       "       [0, 0, 0, ..., 0, 0, 0],\n",
       "       [0, 0, 0, ..., 0, 0, 0],\n",
       "       ..., \n",
       "       [0, 0, 0, ..., 0, 0, 0],\n",
       "       [0, 0, 0, ..., 0, 0, 0],\n",
       "       [0, 0, 0, ..., 0, 0, 0]])"
      ]
     },
     "execution_count": 69,
     "metadata": {},
     "output_type": "execute_result"
    }
   ],
   "source": [
    "inp = \"\"\"#..###...#..#.#.#...#..##\n",
    "....#.##..#..###...###...\n",
    "##.#.....###...#.##...###\n",
    "##...#.####..#####..####.\n",
    "##.#...#.##...##.....##.#\n",
    "###.#.#...###..###.###...\n",
    "#.#..#.#.###..#.##.#..###\n",
    ".#..###.##..##.#....#.#..\n",
    "#.#.......###.##...#.##..\n",
    "#.#.######.##.#..#...#...\n",
    "######.#.##...#.#...###.#\n",
    ".#....#.###.##.######....\n",
    "#.#####.#####.#.#..##.###\n",
    "..##.#.#...###......###.#\n",
    ".##.##..##.#.#.#######.##\n",
    "#..###.###....#.....##..#\n",
    "..##..####..##.#...####..\n",
    ".##.####.##.##..##..#....\n",
    "###...#.#..##...#.#..##..\n",
    "......##.....#.#..#.#.###\n",
    "#.#.##.##.#####....#.#..#\n",
    ".....#.###.##...#...#..#.\n",
    "#...#......##.##.#####.##\n",
    "#.##.##.......#.##....#.#\n",
    "####.##.#.#........###.##\"\"\".replace('.', '0').replace('#', '1')\n",
    "# inp = \"\"\". . . . . . . . .\n",
    "# . . . . . . . . .\n",
    "# . . . . . . . . .\n",
    "# . . . . . # . . .\n",
    "# . . . # . . . . .\n",
    "# . . . . . . . . .\n",
    "# . . . . . . . . .\n",
    "# . . . . . . . . .\n",
    "# . . . . . . . . .\"\"\".replace(' ','').replace('.', '0').replace('#', '1')\n",
    "\n",
    "\n",
    "def reset_grid(padding=20):\n",
    "    g = np.array([[c for c in line] for line in inp.splitlines()]).astype('int')\n",
    "    return np.pad(g, (padding, padding), 'constant', constant_values=(0,0))\n",
    "\n",
    "\n",
    "grid = reset_grid()\n",
    "grid"
   ]
  },
  {
   "cell_type": "code",
   "execution_count": null,
   "metadata": {
    "collapsed": true
   },
   "outputs": [],
   "source": []
  },
  {
   "cell_type": "markdown",
   "metadata": {},
   "source": [
    "The virus carrier is on a clean node, so it turns left, infects the node, and moves left:"
   ]
  },
  {
   "cell_type": "code",
   "execution_count": 70,
   "metadata": {
    "collapsed": true
   },
   "outputs": [],
   "source": [
    "def infected(grid, row, col):\n",
    "    return bool(grid[row, col])\n",
    "\n",
    "def turn(right_left, curdir):\n",
    "    if right_left == 'right':\n",
    "        if curdir == 'up':\n",
    "            return 'right'\n",
    "        elif curdir == 'right':\n",
    "            return 'down'\n",
    "        elif curdir == 'down':\n",
    "            return 'left'\n",
    "        elif curdir == 'left':\n",
    "            return 'up'\n",
    "    elif right_left == 'left':\n",
    "        if curdir == 'up':\n",
    "            return 'left'\n",
    "        elif curdir == 'left':\n",
    "            return 'down'\n",
    "        elif curdir == 'down':\n",
    "            return 'right'\n",
    "        elif curdir == 'right':\n",
    "            return 'up'\n",
    "\n",
    "dirmoves = {'right': np.array([0, 1]),\n",
    "            'left': np.array([0, -1]),\n",
    "            'up': np.array([-1, 0]),\n",
    "            'down': np.array([1, 0])}"
   ]
  },
  {
   "cell_type": "code",
   "execution_count": 72,
   "metadata": {
    "collapsed": true
   },
   "outputs": [],
   "source": [
    "curdir = 'up'\n",
    "activity = 0\n",
    "infections = 0\n",
    "grid = reset_grid(padding=2500)\n",
    "rows, cols = grid.shape\n",
    "\n",
    "row = rows//2\n",
    "col = cols//2\n",
    "\n",
    "for _ in range(10000):\n",
    "    activity += 1\n",
    "    \n",
    "#     print(row, col)\n",
    "    if not grid[row, col]:\n",
    "        infections += 1\n",
    "        curdir = turn('left', curdir)\n",
    "    else:\n",
    "        curdir = turn('right', curdir)\n",
    "        \n",
    "    grid[row, col] = 1 - grid[row, col] # flip\n",
    "    row, col = np.array([row, col]) + dirmoves[curdir]\n",
    "#     print(grid)\n",
    "#     print(curdir)\n",
    "#     print('----')\n",
    "\n"
   ]
  },
  {
   "cell_type": "code",
   "execution_count": 73,
   "metadata": {},
   "outputs": [
    {
     "name": "stdout",
     "output_type": "stream",
     "text": [
      "5447\n",
      "10000\n"
     ]
    }
   ],
   "source": [
    "print(infections)\n",
    "print(activity)"
   ]
  },
  {
   "cell_type": "code",
   "execution_count": 57,
   "metadata": {},
   "outputs": [
    {
     "name": "stdout",
     "output_type": "stream",
     "text": [
      "11 11 5 5\n",
      "0\n",
      "1\n",
      "1\n"
     ]
    },
    {
     "data": {
      "text/plain": [
       "array([[0, 0, 0, 0, 0, 0, 0, 0, 0, 0, 0],\n",
       "       [0, 0, 0, 0, 0, 0, 0, 0, 0, 0, 0],\n",
       "       [0, 0, 0, 0, 0, 0, 0, 0, 0, 0, 0],\n",
       "       [0, 0, 0, 0, 0, 0, 0, 0, 0, 0, 0],\n",
       "       [0, 0, 0, 0, 0, 0, 1, 0, 0, 0, 0],\n",
       "       [0, 0, 0, 0, 1, 0, 0, 0, 0, 0, 0],\n",
       "       [0, 0, 0, 0, 0, 0, 0, 0, 0, 0, 0],\n",
       "       [0, 0, 0, 0, 0, 0, 0, 0, 0, 0, 0],\n",
       "       [0, 0, 0, 0, 0, 0, 0, 0, 0, 0, 0],\n",
       "       [0, 0, 0, 0, 0, 0, 0, 0, 0, 0, 0],\n",
       "       [0, 0, 0, 0, 0, 0, 0, 0, 0, 0, 0]])"
      ]
     },
     "execution_count": 57,
     "metadata": {},
     "output_type": "execute_result"
    }
   ],
   "source": [
    "grid = reset_grid(padding=1)\n",
    "rows, cols = grid.shape\n",
    "\n",
    "row = rows//2\n",
    "col = cols//2\n",
    "print(rows, cols, row, col)\n",
    "print(grid[row, col])\n",
    "print(grid[row, col-1])\n",
    "print(grid[row-1, col+1])\n",
    "grid"
   ]
  },
  {
   "cell_type": "code",
   "execution_count": null,
   "metadata": {
    "collapsed": true
   },
   "outputs": [],
   "source": []
  }
 ],
 "metadata": {
  "kernelspec": {
   "display_name": "Python 3",
   "language": "python",
   "name": "python3"
  },
  "language_info": {
   "codemirror_mode": {
    "name": "ipython",
    "version": 3
   },
   "file_extension": ".py",
   "mimetype": "text/x-python",
   "name": "python",
   "nbconvert_exporter": "python",
   "pygments_lexer": "ipython3",
   "version": "3.5.2"
  }
 },
 "nbformat": 4,
 "nbformat_minor": 2
}
